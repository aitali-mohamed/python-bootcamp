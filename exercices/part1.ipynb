{
 "cells": [
  {
   "cell_type": "markdown",
   "id": "5ad7e22a",
   "metadata": {},
   "source": [
    "### Exercice 1:"
   ]
  },
  {
   "cell_type": "markdown",
   "id": "b0be8057",
   "metadata": {},
   "source": [
    "Write a function that takes a string, and two indexes (integers), and returns a slice of that string as well as the length of the string.\n",
    "Call the function, and store the results in two variables"
   ]
  },
  {
   "cell_type": "code",
   "execution_count": 1,
   "id": "fc19e47e",
   "metadata": {},
   "outputs": [
    {
     "data": {
      "text/plain": [
       "'uredd'"
      ]
     },
     "execution_count": 1,
     "metadata": {},
     "output_type": "execute_result"
    }
   ],
   "source": [
    "#Declare the function\n",
    "def string(c,i,k):\n",
    "    return c[i:k+1]\n",
    "\n",
    "#Call the function\n",
    "\n",
    "string(\"Noureddine\",2,6)\n",
    "\n",
    "#print the result in a well formated format\n",
    "#..."
   ]
  },
  {
   "cell_type": "markdown",
   "id": "67df8c72",
   "metadata": {},
   "source": [
    "### Exercice 2:"
   ]
  },
  {
   "cell_type": "markdown",
   "id": "2a04a2e1",
   "metadata": {},
   "source": [
    "1. Write a function that takes two arguments, and returns the sum of the two.\n",
    "2. Call the function with the values 1 and 2.1, then check the type of the result.\n",
    "3. Call the function with the values False and 2, then check the type of the result."
   ]
  },
  {
   "cell_type": "code",
   "execution_count": 6,
   "id": "b9a1a7ff",
   "metadata": {},
   "outputs": [
    {
     "name": "stdout",
     "output_type": "stream",
     "text": [
      "<class 'int'>\n"
     ]
    },
    {
     "data": {
      "text/plain": [
       "1"
      ]
     },
     "execution_count": 6,
     "metadata": {},
     "output_type": "execute_result"
    }
   ],
   "source": [
    "#Declare the function\n",
    "#...\n",
    "def somme(a,b):\n",
    "    print(type(a+b))\n",
    "    return a+b\n",
    "#Call with the values 1 and two\n",
    "#...\n",
    "\n",
    "somme(1,False)\n"
   ]
  },
  {
   "cell_type": "code",
   "execution_count": 7,
   "id": "b728da3f",
   "metadata": {},
   "outputs": [
    {
     "name": "stdout",
     "output_type": "stream",
     "text": [
      "<class 'int'>\n"
     ]
    },
    {
     "data": {
      "text/plain": [
       "3"
      ]
     },
     "execution_count": 7,
     "metadata": {},
     "output_type": "execute_result"
    }
   ],
   "source": [
    "somme(1,2)"
   ]
  },
  {
   "cell_type": "markdown",
   "id": "3a38d47d",
   "metadata": {},
   "source": [
    "### Exercice 3:"
   ]
  },
  {
   "cell_type": "markdown",
   "id": "40a212f8",
   "metadata": {},
   "source": [
    "Write a function that takes a string and returns a dictionary containing character frequency.\n",
    "\n",
    "*example*\n",
    "\n",
    "    string sample: 'test'\n",
    "    \n",
    "    expected result: {'t':2, 'e':1, 's':1}"
   ]
  },
  {
   "cell_type": "code",
   "execution_count": 8,
   "id": "6e0119f0",
   "metadata": {},
   "outputs": [
    {
     "data": {
      "text/plain": [
       "{'a': 3, 'h': 2, 'm': 2, 'e': 2, 'd': 2, 'i': 1, 't': 1}"
      ]
     },
     "execution_count": 8,
     "metadata": {},
     "output_type": "execute_result"
    }
   ],
   "source": [
    "#Declare the function\n",
    "#...\n",
    "\n",
    "def string_dic(c):\n",
    "    d={}\n",
    "    for x in c:\n",
    "        d[x]=c.count(x)\n",
    "    return d    \n",
    "\n",
    "\n",
    "#Print the result\n",
    "#...\n",
    "\n",
    "string_dic(\"ahmeddemhaait\")"
   ]
  },
  {
   "cell_type": "markdown",
   "id": "b9c9fad3",
   "metadata": {},
   "source": [
    "### Exercice 4:"
   ]
  },
  {
   "cell_type": "markdown",
   "id": "47b4ad19",
   "metadata": {},
   "source": [
    "Given two lists, iterate both lists simultaniously, such the first list would display item in original order and the second list in reverse order\n",
    "\n",
    "*example*:"
   ]
  },
  {
   "cell_type": "code",
   "execution_count": 3,
   "id": "b3e59b61",
   "metadata": {},
   "outputs": [
    {
     "name": "stdout",
     "output_type": "stream",
     "text": [
      "1 3\n",
      "2 2\n",
      "3 1\n"
     ]
    }
   ],
   "source": [
    "from lib import print_orl #this is a lib you dont have access to\n",
    "print_orl([1,2,3],[1,2,3])"
   ]
  },
  {
   "cell_type": "code",
   "execution_count": 9,
   "id": "9eb1eb7a",
   "metadata": {},
   "outputs": [],
   "source": [
    "def print_orl2(a,b):\n",
    "    n=len(a)\n",
    "    for i in range(n):\n",
    "        print(a[i],' ',b[n-1-i],'\\n')"
   ]
  },
  {
   "cell_type": "code",
   "execution_count": 10,
   "id": "1d3b98e0",
   "metadata": {},
   "outputs": [
    {
     "name": "stdout",
     "output_type": "stream",
     "text": [
      "1   3 \n",
      "\n",
      "2   2 \n",
      "\n",
      "3   1 \n",
      "\n"
     ]
    }
   ],
   "source": [
    "print_orl2([1,2,3],[1,2,3])"
   ]
  },
  {
   "cell_type": "markdown",
   "id": "8e914139",
   "metadata": {},
   "source": [
    "### Exercice 5:"
   ]
  },
  {
   "cell_type": "markdown",
   "id": "89cbdbea",
   "metadata": {},
   "source": [
    "Given two 2d arrays, stack them horizontally.\n",
    "\n",
    "*example:*"
   ]
  },
  {
   "cell_type": "code",
   "execution_count": 16,
   "id": "feabf6d6",
   "metadata": {},
   "outputs": [],
   "source": [
    "import numpy as np\n",
    "\n",
    "#The input\n",
    "a = np.ones((1, 10))\n",
    "b = np.zeros((1, 10)).reshape(2, -1)\n",
    "\n",
    "#Try to print input\n",
    "a = np.ones((1, 10)).reshape(2, -1)\n",
    "\n",
    "#concatenate horizontally\n",
    "#output shoul look like:     array([[1., 1., 1., 1., 1., 0., 0., 0., 0., 0.],\n",
    "#                                   [1., 1., 1., 1., 1., 0., 0., 0., 0., 0.]])\n",
    "\n",
    "\n",
    "\n"
   ]
  },
  {
   "cell_type": "code",
   "execution_count": 19,
   "id": "c54fbaa7",
   "metadata": {},
   "outputs": [],
   "source": [
    "def concat_array(a,b):\n",
    "    ab=np.concatenate((a,b),axis=1)\n",
    "    return ab\n"
   ]
  },
  {
   "cell_type": "code",
   "execution_count": 22,
   "id": "be3a6b06",
   "metadata": {},
   "outputs": [
    {
     "data": {
      "text/plain": [
       "array([[1., 1., 1., 1., 1., 0., 0., 0., 0., 0.],\n",
       "       [1., 1., 1., 1., 1., 0., 0., 0., 0., 0.]])"
      ]
     },
     "execution_count": 22,
     "metadata": {},
     "output_type": "execute_result"
    }
   ],
   "source": [
    "concat_array(a,b)"
   ]
  },
  {
   "cell_type": "markdown",
   "id": "ea04b462",
   "metadata": {},
   "source": [
    "### exercice 6:"
   ]
  },
  {
   "cell_type": "markdown",
   "id": "15d5a0b4",
   "metadata": {},
   "source": [
    "Create the following patterns using the bellow arrays a and b, and numpy functions:"
   ]
  },
  {
   "cell_type": "code",
   "execution_count": 59,
   "id": "dbb11c06",
   "metadata": {},
   "outputs": [],
   "source": [
    "a = np.arange(3)\n",
    "b = np.ones((3,3,3))\n",
    "\n",
    "\n",
    "#output1 the following array: array([0, 0, 0, 1, 1, 1, 2, 2, 2, 0, 1, 2, 0, 1, 2, 0, 1, 2])\n",
    "#...\n",
    "output1=[]\n",
    "for x in a:\n",
    "    output1=np.concatenate((output1,[x],[x],[x]))\n",
    "\n",
    "output1=np.concatenate((output1,a,a,a))\n",
    "\n",
    "#output2 the follwing array: array([[[1., 2., 3.],\n",
    "#                                    [1., 2., 3.],\n",
    "#                                    [1., 2., 3.]],\n",
    "\n",
    "#                                    [[1., 2., 3.],\n",
    "#                                    [1., 2., 3.],\n",
    "#                                    [1., 2., 3.]],\n",
    "\n",
    "#                                    [[1., 2., 3.],\n",
    "#                                    [1., 2., 3.],\n",
    "#                                    [1., 2., 3.]]])\n",
    "output2=b.copy()\n",
    "for x in output2:\n",
    "    for y in x:\n",
    "        for z in range(1,3):\n",
    "            y[z]+=2**(z-1)\n",
    "\n",
    "#output3 array([[1., 1., 1., 1., 1., 1., 1., 1., 1.],\n",
    "#                [1., 1., 1., 1., 1., 1., 1., 1., 1.],\n",
    "#                [1., 1., 1., 1., 1., 1., 1., 1., 1.]])\n",
    "output3 =  b.reshape(3,-1)\n"
   ]
  },
  {
   "cell_type": "code",
   "execution_count": 60,
   "id": "55671ba7",
   "metadata": {},
   "outputs": [
    {
     "data": {
      "text/plain": [
       "array([0., 0., 0., 1., 1., 1., 2., 2., 2., 0., 1., 2., 0., 1., 2., 0., 1.,\n",
       "       2.])"
      ]
     },
     "execution_count": 60,
     "metadata": {},
     "output_type": "execute_result"
    }
   ],
   "source": [
    "output1"
   ]
  },
  {
   "cell_type": "code",
   "execution_count": 61,
   "id": "1f56f462",
   "metadata": {},
   "outputs": [
    {
     "data": {
      "text/plain": [
       "array([[[1., 2., 3.],\n",
       "        [1., 2., 3.],\n",
       "        [1., 2., 3.]],\n",
       "\n",
       "       [[1., 2., 3.],\n",
       "        [1., 2., 3.],\n",
       "        [1., 2., 3.]],\n",
       "\n",
       "       [[1., 2., 3.],\n",
       "        [1., 2., 3.],\n",
       "        [1., 2., 3.]]])"
      ]
     },
     "execution_count": 61,
     "metadata": {},
     "output_type": "execute_result"
    }
   ],
   "source": [
    "output2"
   ]
  },
  {
   "cell_type": "code",
   "execution_count": 62,
   "id": "6b226f60",
   "metadata": {},
   "outputs": [
    {
     "data": {
      "text/plain": [
       "array([[1., 1., 1., 1., 1., 1., 1., 1., 1.],\n",
       "       [1., 1., 1., 1., 1., 1., 1., 1., 1.],\n",
       "       [1., 1., 1., 1., 1., 1., 1., 1., 1.]])"
      ]
     },
     "execution_count": 62,
     "metadata": {},
     "output_type": "execute_result"
    }
   ],
   "source": [
    "output3"
   ]
  }
 ],
 "metadata": {
  "kernelspec": {
   "display_name": "Python 3",
   "language": "python",
   "name": "python3"
  },
  "language_info": {
   "codemirror_mode": {
    "name": "ipython",
    "version": 3
   },
   "file_extension": ".py",
   "mimetype": "text/x-python",
   "name": "python",
   "nbconvert_exporter": "python",
   "pygments_lexer": "ipython3",
   "version": "3.8.10"
  }
 },
 "nbformat": 4,
 "nbformat_minor": 5
}

{
 "cells": [
  {
   "cell_type": "markdown",
   "id": "c5113bab",
   "metadata": {},
   "source": [
    "## Exercice2"
   ]
  },
  {
   "cell_type": "code",
   "execution_count": 81,
   "id": "0026adad",
   "metadata": {},
   "outputs": [
    {
     "data": {
      "text/plain": [
       "29"
      ]
     },
     "execution_count": 81,
     "metadata": {},
     "output_type": "execute_result"
    }
   ],
   "source": [
    "import datetime\n",
    "\n",
    "class Person:\n",
    "\n",
    "    def __init__(self, name, surname, birthdate, address, telephone, email):\n",
    "        self.name = name\n",
    "        self.surname = surname\n",
    "        self.birthdate = birthdate\n",
    "\n",
    "        self.address = address\n",
    "        self.telephone = telephone\n",
    "        self.email = email\n",
    "        self._age_()\n",
    "\n",
    "    def _age_(self):\n",
    "        today = datetime.date.today()\n",
    "        age = today.year - self.birthdate.year\n",
    "\n",
    "        if today < datetime.date(today.year, self.birthdate.month, self.birthdate.day):\n",
    "            age -= 1\n",
    "\n",
    "        self._age = age\n",
    "        self.date= today\n",
    "    \n",
    "    def age(self):\n",
    "        if (datetime.date.today() > self.date):\n",
    "            self._age_()\n",
    "\n",
    "        return self._age\n",
    "\n",
    "\n",
    "\n",
    "\n",
    "person = Person(\n",
    "    \"Jane\",\n",
    "    \"Doe\",\n",
    "    datetime.date(1992, 3, 12), # year, month, day\n",
    "    \"No. 12 Short Street, Greenville\",\n",
    "    \"555 456 0987\",\n",
    "    \"jane.doe@example.com\"\n",
    ")        \n",
    "person.age()"
   ]
  },
  {
   "cell_type": "markdown",
   "id": "1713d62f",
   "metadata": {},
   "source": [
    "## Exercice3"
   ]
  },
  {
   "cell_type": "markdown",
   "id": "845f438a",
   "metadata": {},
   "source": [
    "name is  an instance attribute which is set in the __init__ methode(the constructor), and each class instance can have a different name value. \n",
    "\n",
    "surname is a class attribute,all the instance will have Smith as  surname. \n",
    "\n",
    "profession is a class attribute, but it's optional you can pass another value to the instance when it's created."
   ]
  },
  {
   "cell_type": "markdown",
   "id": "7fa5b304",
   "metadata": {},
   "source": [
    "## Exercice4"
   ]
  },
  {
   "cell_type": "code",
   "execution_count": 84,
   "id": "b99574a1",
   "metadata": {},
   "outputs": [],
   "source": [
    "class Numbers:\n",
    "    MULTIPLIER = 2\n",
    "\n",
    "    def __init__(self, x, y):\n",
    "        self.x = x\n",
    "        self.y = y\n",
    "\n",
    "    def add(self):\n",
    "        return self.x + self.y\n",
    "\n",
    "    @classmethod\n",
    "    def multiply(cls, a):\n",
    "        return cls.MULTIPLIER * a\n",
    "\n",
    "    @staticmethod\n",
    "    def subtract(b, c):\n",
    "        return b - c\n",
    "\n",
    "    @property\n",
    "    def value(self):\n",
    "        return (self.x, self.y)\n",
    "\n",
    "    @value.setter\n",
    "    def value(self, tuple_xy):\n",
    "        self.x, self.y = tuple_xy\n",
    "\n",
    "    @value.deleter\n",
    "    def value(self):\n",
    "        del self.x\n",
    "        del self.y\n",
    "        "
   ]
  },
  {
   "cell_type": "markdown",
   "id": "c583e501",
   "metadata": {},
   "source": [
    "## Exercice5 "
   ]
  },
  {
   "cell_type": "code",
   "execution_count": 83,
   "id": "13bb7519",
   "metadata": {},
   "outputs": [
    {
     "name": "stdout",
     "output_type": "stream",
     "text": [
      "name: Jane\n",
      "surname: Doe\n",
      "birthdate: 1992-03-12\n",
      "address: No. 12 Short Street, Greenville\n",
      "telephone: 555 456 0987\n",
      "email: jane.doe@example.com\n",
      "_age: 29\n",
      "date: 2022-01-30\n"
     ]
    }
   ],
   "source": [
    "def ObjectAttr(my_object):\n",
    "    for key, val in my_object.__dict__.items():\n",
    "        print(\"%s: %s\" % (key, val))\n",
    "\n",
    "ObjectAttr(person)"
   ]
  },
  {
   "cell_type": "markdown",
   "id": "69615c4d",
   "metadata": {},
   "source": [
    "## Exercice6"
   ]
  },
  {
   "cell_type": "code",
   "execution_count": 76,
   "id": "2f1d1c10",
   "metadata": {},
   "outputs": [
    {
     "data": {
      "text/plain": [
       "'get_object: name:ahmed  adress:benguerir  age:27'"
      ]
     },
     "execution_count": 76,
     "metadata": {},
     "output_type": "execute_result"
    }
   ],
   "source": [
    "class get_object:\n",
    "    def __init__(self, **kwargs):\n",
    "        for k, v in kwargs.items():\n",
    "            setattr(self, k, v)\n",
    "\n",
    "    def __str__(self):\n",
    "        attrs = [\"%s:%s\" % (k, v) for (k, v) in self.__dict__.items()]\n",
    "        classname = self.__class__.__name__\n",
    "        return \"%s: %s\" % (classname, \"  \".join(attrs))\n",
    "    \n",
    "person2=get_object(name='ahmed',adress='benguerir',age=27)    \n",
    "person2.__str__()\n"
   ]
  }
 ],
 "metadata": {
  "kernelspec": {
   "display_name": "Python 3",
   "language": "python",
   "name": "python3"
  },
  "language_info": {
   "codemirror_mode": {
    "name": "ipython",
    "version": 3
   },
   "file_extension": ".py",
   "mimetype": "text/x-python",
   "name": "python",
   "nbconvert_exporter": "python",
   "pygments_lexer": "ipython3",
   "version": "3.8.10"
  }
 },
 "nbformat": 4,
 "nbformat_minor": 5
}

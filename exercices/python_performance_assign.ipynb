{
 "cells": [
  {
   "cell_type": "markdown",
   "id": "3695334b",
   "metadata": {},
   "source": [
    "<h1 align=\"center\">Python performance exercises</h1>"
   ]
  },
  {
   "cell_type": "markdown",
   "id": "0cd99c6a",
   "metadata": {},
   "source": [
    "## Python best practices exercises"
   ]
  },
  {
   "cell_type": "markdown",
   "id": "2eb03ab4",
   "metadata": {},
   "source": [
    "### Exercise 1\n",
    "\n",
    "considering the following function for concatenating list strings with deliter."
   ]
  },
  {
   "cell_type": "code",
   "execution_count": null,
   "id": "7ee572a5",
   "metadata": {},
   "outputs": [],
   "source": [
    "def ft_concatenate(l_strings, d):\n",
    "    \"\"\"concatenate list of strings into one string separated by delimeter\"\"\"\n",
    "    res = l_strings[0]\n",
    "    for e in l_strings[1:]:\n",
    "        res = res + d + e\n",
    "    return res"
   ]
  },
  {
   "cell_type": "markdown",
   "id": "ea76a695",
   "metadata": {},
   "source": [
    "- profile the function and identify the bottlenecks.\n",
    "- improve speed up of the function\n",
    "*Hint: you may need to look to the string functions in python documentation*"
   ]
  },
  {
   "cell_type": "markdown",
   "id": "7e7f9502",
   "metadata": {},
   "source": [
    "### Profiling full script"
   ]
  },
  {
   "cell_type": "code",
   "execution_count": null,
   "id": "3b1ec745",
   "metadata": {},
   "outputs": [],
   "source": [
    "x=10**70000\n",
    "x=str(x)\n",
    "%prun ft_concatenate(x,\"1\")"
   ]
  },
  {
   "cell_type": "markdown",
   "id": "f041c2e1",
   "metadata": {},
   "source": [
    "### Line by line profiling"
   ]
  },
  {
   "cell_type": "code",
   "execution_count": null,
   "id": "b510c731",
   "metadata": {},
   "outputs": [],
   "source": [
    "%load_ext line_profiler"
   ]
  },
  {
   "cell_type": "code",
   "execution_count": null,
   "id": "89f64437",
   "metadata": {},
   "outputs": [],
   "source": [
    "x=10**70000\n",
    "x=str(x)\n",
    "%lprun -f ft_concatenate ft_concatenate(x,\"1\")"
   ]
  },
  {
   "cell_type": "markdown",
   "id": "7d4a7e3f",
   "metadata": {},
   "source": [
    "## The new version of the function"
   ]
  },
  {
   "cell_type": "code",
   "execution_count": null,
   "id": "536cc7a1",
   "metadata": {},
   "outputs": [],
   "source": [
    "def ft_concatenate_optim(l_strings, d):\n",
    "    \"\"\"concatenate list of strings into one string separated by delimeter\"\"\"\n",
    "    char=list(l_strings)\n",
    "    res=d.join(char)\n",
    "    return res"
   ]
  },
  {
   "cell_type": "markdown",
   "id": "4a2c777f",
   "metadata": {},
   "source": [
    "## comparing the two functions"
   ]
  },
  {
   "cell_type": "code",
   "execution_count": null,
   "id": "1035cc81",
   "metadata": {},
   "outputs": [],
   "source": [
    "%timeit ft_concatenate(x,\"1\")\n",
    "%timeit ft_concatenate_optim(x,\"d\")"
   ]
  },
  {
   "cell_type": "markdown",
   "id": "4e6ff41d",
   "metadata": {},
   "source": [
    "### Exercise 2\n",
    "\n",
    "In this exercise you will solve the following problem using two methods bruteforce mehode, and fast method.\n",
    "\n",
    "**Problem:** You are given a list of n integers, and your task is to calculate the number of distinct values in the list.\n",
    "\n",
    "**Example**\n",
    "- Input:\n",
    "5\n",
    "2 3 2 2 3\n",
    "\n",
    "- Output:\n",
    "2\n",
    "\n",
    "**Implement the following methodes:**\n",
    "\n",
    "1. **bruteforce mehode:** create an empty list and start adding items for the given list without adding the previous item add, at the end the result list will contain unique values, print lenght of the list and you are done. \n",
    "2. **fast method** think of using Set data structure.\n",
    "\n",
    "- time the two methods, what do you think?"
   ]
  },
  {
   "cell_type": "code",
   "execution_count": null,
   "id": "97614702",
   "metadata": {},
   "outputs": [],
   "source": [
    "# bruteforce fast method\n",
    "def distinctValues(L):\n",
    "    res=[]\n",
    "    for i in L:\n",
    "        if i not in res:\n",
    "            res.append(i)\n",
    "    return len(res)\n",
    "            "
   ]
  },
  {
   "cell_type": "code",
   "execution_count": null,
   "id": "9e2e1ba8",
   "metadata": {},
   "outputs": [],
   "source": [
    "# write fast method\n",
    "def distinctValues2(L):\n",
    "    res=set(L)\n",
    "    return len(res)"
   ]
  },
  {
   "cell_type": "code",
   "execution_count": null,
   "id": "adc2f72d",
   "metadata": {},
   "outputs": [],
   "source": [
    "# Creat two random lists of numbers for testing\n",
    "import random\n",
    "L = [random.randrange(1, 1000, 1) for i in range(1000000)]\n",
    "# time the two methods\n",
    "%timeit distinctValues(L)\n",
    "%timeit distinctValues2(L)"
   ]
  },
  {
   "cell_type": "markdown",
   "id": "f3c8715b",
   "metadata": {},
   "source": [
    "## Cython exercises"
   ]
  },
  {
   "cell_type": "markdown",
   "id": "b837cf5a",
   "metadata": {},
   "source": [
    "### Exercise 1"
   ]
  },
  {
   "cell_type": "markdown",
   "id": "844da986",
   "metadata": {},
   "source": [
    "1. load the cython extension."
   ]
  },
  {
   "cell_type": "code",
   "execution_count": null,
   "id": "a6b7a987",
   "metadata": {},
   "outputs": [],
   "source": [
    "%load_ext cython\n"
   ]
  },
  {
   "cell_type": "markdown",
   "id": "dcf216ac",
   "metadata": {},
   "source": [
    "2. Condidering the following polynome function:"
   ]
  },
  {
   "cell_type": "code",
   "execution_count": null,
   "id": "494b67cc",
   "metadata": {},
   "outputs": [],
   "source": [
    "def poly(a,b):\n",
    "    return 10.5 * a + 3 * (b**2)"
   ]
  },
  {
   "cell_type": "markdown",
   "id": "2b463c76",
   "metadata": {},
   "source": [
    "- Create an equivalent Cython function of `poly` with name `poly_cy` without any cython improvement, just make its cell a cython cell."
   ]
  },
  {
   "cell_type": "markdown",
   "id": "c5872088",
   "metadata": {},
   "source": [
    "\n"
   ]
  },
  {
   "cell_type": "markdown",
   "id": "ed78d350",
   "metadata": {},
   "source": [
    "3. time the performance of Python and Cython version of the function, what is the factor of speed up here between the two verions."
   ]
  },
  {
   "cell_type": "code",
   "execution_count": null,
   "id": "1e1450f3",
   "metadata": {},
   "outputs": [],
   "source": [
    "%%cython -a\n",
    "def poly_cy(a,b):\n",
    "    return 10.5 * a + 3 * (b**2)\n"
   ]
  },
  {
   "cell_type": "markdown",
   "id": "afbfb769",
   "metadata": {},
   "source": [
    "### Let's time the performance of each function"
   ]
  },
  {
   "cell_type": "code",
   "execution_count": null,
   "id": "218472e6",
   "metadata": {},
   "outputs": [],
   "source": [
    "%timeit poly(10**200,10**100)\n",
    "%timeit poly_cy(10**200,10**200)"
   ]
  },
  {
   "cell_type": "markdown",
   "id": "9eee09a2",
   "metadata": {},
   "source": [
    "4. Now lets work on another examples using loop.\n",
    "    - rewrite the same function below fib that calculate fibonacci series using cython, but now try to add type for the variables used inside it, add a prefix `_cy` to your new cython function."
   ]
  },
  {
   "cell_type": "code",
   "execution_count": null,
   "id": "71030efb",
   "metadata": {},
   "outputs": [],
   "source": [
    "def fib(n):\n",
    "    a, b = 1, 1\n",
    "    for i in range(n-1):\n",
    "        a, b = a + b, a\n",
    "\n",
    "    return a"
   ]
  },
  {
   "cell_type": "code",
   "execution_count": null,
   "id": "09d56e15",
   "metadata": {},
   "outputs": [],
   "source": [
    "%%cython -a\n",
    "\n",
    "cpdef int fib_cy(int n):\n",
    "    cdef int i,a,b\n",
    "    a, b = 1, 1\n",
    "    for i in range(n-1):\n",
    "        a, b = a + b, a\n",
    "\n",
    "    return a\n"
   ]
  },
  {
   "cell_type": "markdown",
   "id": "ed2b61ce",
   "metadata": {},
   "source": [
    "- time the two function for fibonacci series, with n = 20, what is the factor of speed now, What do you think?"
   ]
  },
  {
   "cell_type": "code",
   "execution_count": null,
   "id": "3add8694",
   "metadata": {},
   "outputs": [],
   "source": [
    "# write your code here\n",
    "%timeit fib(20)\n",
    "%timeit fib_cy(20)"
   ]
  },
  {
   "cell_type": "markdown",
   "id": "59999a1b",
   "metadata": {},
   "source": [
    "5. Recursive functions are functions that call themselves during their execution. Another interesting property of the Fibonacci series is that it can be written as a recursive function. That’s because each item depends on the values of other items (namely item n-1 and item n-2)\n",
    "\n",
    "- Rewrite the fib function using recursion. Is it faster than the non-recursive version? Does Cythonizing it give even more of an advantage? "
   ]
  },
  {
   "cell_type": "code",
   "execution_count": null,
   "id": "a5d5459f",
   "metadata": {},
   "outputs": [],
   "source": [
    "# write your code here\n",
    "def fib_reccur(n):\n",
    "    if n==0 or n==1:\n",
    "        return 1\n",
    "    if n==2:\n",
    "        return 2\n",
    "    return fib_reccur(n-1)+fib_reccur(n-2)"
   ]
  },
  {
   "cell_type": "code",
   "execution_count": null,
   "id": "f5e6204b",
   "metadata": {},
   "outputs": [],
   "source": [
    "%%cython -a\n",
    "\n",
    "cpdef int fib_reccur_cy(int n):\n",
    "    if n==0 or n==1:\n",
    "        return 1\n",
    "    if n==2:\n",
    "        return 2\n",
    "    return fib_reccur_cy(n-1)+fib_reccur_cy(n-2)"
   ]
  },
  {
   "cell_type": "code",
   "execution_count": null,
   "id": "f9d12f43",
   "metadata": {},
   "outputs": [],
   "source": [
    "%timeit fib_reccur(20)\n",
    "%timeit fib_reccur_cy(20)"
   ]
  },
  {
   "cell_type": "markdown",
   "id": "228e54af",
   "metadata": {},
   "source": [
    "We see that  the the non-recursive method is much faster than the recursive methode ,but when we cythonize both of them they get faster than before."
   ]
  },
  {
   "cell_type": "markdown",
   "id": "3c51202f",
   "metadata": {},
   "source": [
    "### Exercise 2\n",
    "\n",
    "- Monte Carlo methods are a broad class of computational algorithms that rely on repeated random sampling to obtain numerical results. \n",
    "- One of the basic examples of getting started with the Monte Carlo algorithm is the estimation of Pi.\n",
    "\n",
    "**Estimation of Pi**\n",
    "\n",
    "- The idea is to simulate random (x, y) points in a 2-D plane with domain as a square of side 1 unit. \n",
    "- Imagine a circle inside the same domain with same diameter and inscribed into the square. \n",
    "- We then calculate the ratio of number points that lied inside the circle and total number of generated points. \n",
    "- Refer to the image below:\n",
    "\n",
    "![demo](../data/MonteCarloPlot.png)\n",
    "\n",
    "We know that area of the square is 1 unit sq while that of circle is $\\pi \\ast  (\\frac{1}{2})^{2} = \\frac{\\pi}{4}$. Now for a very large number of generated points,\n",
    "\n",
    "![demo](../data/MonteCarloCalc.png)\n",
    "\n",
    "\n",
    "## The Algorithm\n",
    "\n",
    "1. Initialize cile_points, square_points and interval to 0.\n",
    "2. Generate random point x.\n",
    "3. Generate random point y.\n",
    "4. Calculate d = x*x + y*y.\n",
    "5. If d <= 1, increment circle_points.\n",
    "6. Increment square_points.\n",
    "7. Increment interval.\n",
    "8. If increment < NO_OF_ITERATIONS, repeat from 2.\n",
    "9. Calculate pi = 4*(circle_points/square_points).\n",
    "10. Terminate."
   ]
  },
  {
   "cell_type": "markdown",
   "id": "3c76af8b",
   "metadata": {},
   "source": [
    "**Your mission:** time the function `monte_carlo_pi`, identify the bottlenecks and create a new version using cython functionality to speed up monte carlo simulation for PI, use 100,000 points and compare the speed up factor between python and cython, considering the following optimizations:\n",
    "- add type for variables used.\n",
    "- add type for the function\n",
    "- use c rand function instead of python rand function.\n",
    " \n",
    "*Hint: you can import function from C libraries using the following approach `from libc.<name of c library> cimport <library function name>`, replace the holders `<>` with the right identities for the current problem*"
   ]
  },
  {
   "cell_type": "code",
   "execution_count": null,
   "id": "874aaacd",
   "metadata": {},
   "outputs": [],
   "source": [
    "import random\n",
    "def monte_carlo_pi(nsamples):\n",
    "    pi = 0.\n",
    "    cile_points= 0\n",
    "    square_points= 0\n",
    "    interval=0\n",
    "    for i in range(nsamples):\n",
    "        x=random.uniform(-1, 1)\n",
    "        y=random.uniform(-1, 1)\n",
    "        d=x**2 + y**2 # square of distance between M(x,y) and o(0,0)\n",
    "        if d<= 1: # if the point M(x,y) is inside the circle\n",
    "            cile_points+= 1\n",
    "        square_points+= 1\n",
    "        interval+=1\n",
    "\n",
    "    pi=4*(cile_points/square_points)\n",
    "    \n",
    "    return pi"
   ]
  },
  {
   "cell_type": "markdown",
   "id": "c2f7a8b5",
   "metadata": {},
   "source": [
    "### profile the function and identify the bottlenecks."
   ]
  },
  {
   "cell_type": "code",
   "execution_count": null,
   "id": "bbf33573",
   "metadata": {},
   "outputs": [],
   "source": [
    "%prun monte_carlo_pi(1000000)"
   ]
  },
  {
   "cell_type": "markdown",
   "id": "6e16c252",
   "metadata": {},
   "source": [
    "### speed up the function"
   ]
  },
  {
   "cell_type": "code",
   "execution_count": null,
   "id": "2ec493b1",
   "metadata": {},
   "outputs": [],
   "source": [
    "%%cython \n",
    "#from libc.stdlib cimport rand, srand, RAND_MAX\n",
    "#from libc.time cimport time\n",
    "import random\n",
    "cpdef float monte_carlo_pi_cy(int nsamples):\n",
    "    cdef int i,cile_points=0\n",
    "    cdef float x,y,pi\n",
    "    for i in range(nsamples):\n",
    "        x=random.uniform(-1, 1)\n",
    "        y=random.uniform(-1, 1)\n",
    "        d=x**2 + y**2 # square of distance between M(x,y) and o(0,0)\n",
    "        if d<= 1: # if the point M(x,y) is inside the circle\n",
    "            cile_points+= 1\n",
    "    #print((cile_points))        \n",
    "    pi=4*(cile_points/nsamples)\n",
    "    return pi"
   ]
  },
  {
   "cell_type": "markdown",
   "id": "b482bdad",
   "metadata": {},
   "source": [
    "### Comparing the speed up factor between the two versions"
   ]
  },
  {
   "cell_type": "code",
   "execution_count": null,
   "id": "fe98cbcd",
   "metadata": {},
   "outputs": [],
   "source": [
    "%timeit monte_carlo_pi(1000000)\n",
    "%timeit monte_carlo_pi_cy(1000000)"
   ]
  },
  {
   "cell_type": "markdown",
   "id": "1c639527",
   "metadata": {},
   "source": [
    "## Numba exercises"
   ]
  },
  {
   "cell_type": "markdown",
   "id": "226e7906",
   "metadata": {},
   "source": [
    "### Exercise 1\n",
    "\n",
    "Previously we considered how to approximateby Monte Carlo.\n",
    "\n",
    "- Use the same idea here, but make the code efficient using Numba.\n",
    "- Compare speed with and without Numba when the sample size is large."
   ]
  },
  {
   "cell_type": "code",
   "execution_count": null,
   "id": "26c4fc64",
   "metadata": {},
   "outputs": [],
   "source": [
    "# Your code here"
   ]
  },
  {
   "cell_type": "markdown",
   "id": "ee0446e2",
   "metadata": {},
   "source": [
    "### Exercise 2\n",
    "\n",
    "In the [Introduction to Quantitative Economics](https://python.quantecon.org/intro.html) with Python lecture series you can learn all about finite-state Markov chains.\n",
    "\n",
    "For now, let's just concentrate on simulating a very simple example of such a chain.\n",
    "\n",
    "Suppose that the volatility of returns on an asset can be in one of two regimes — high or low.\n",
    "\n",
    "The transition probabilities across states are as follows ![markov](../data/markov.png)\n",
    "\n",
    "For example, let the period length be one day, and suppose the current state is high.\n",
    "\n",
    "We see from the graph that the state tomorrow will be\n",
    "\n",
    "- high with probability 0.8\n",
    "\n",
    "- low with probability 0.2\n",
    "\n",
    "Your task is to simulate a sequence of daily volatility states according to this rule.\n",
    "\n",
    "Set the length of the sequence to `n = 1_000_000` and start in the high state.\n",
    "\n",
    "Implement a pure Python version and a Numba version, and compare speeds.\n",
    "\n",
    "To test your code, evaluate the fraction of time that the chain spends in the low state.\n",
    "\n",
    "If your code is correct, it should be about 2/3.\n",
    "\n",
    "Hints:\n",
    "\n",
    "- Represent the low state as 0 and the high state as 1.\n",
    "\n",
    "- If you want to store integers in a NumPy array and then apply JIT compilation, use `x = np.empty(n, dtype=np.int_)`.\n"
   ]
  },
  {
   "cell_type": "markdown",
   "id": "702cfa44",
   "metadata": {},
   "source": [
    "## Additionnal exercice"
   ]
  },
  {
   "cell_type": "markdown",
   "id": "db77d198",
   "metadata": {},
   "source": []
  }
 ],
 "metadata": {
  "hide_input": false,
  "kernelspec": {
   "display_name": "Python 3",
   "language": "python",
   "name": "python3"
  },
  "language_info": {
   "codemirror_mode": {
    "name": "ipython",
    "version": 3
   },
   "file_extension": ".py",
   "mimetype": "text/x-python",
   "name": "python",
   "nbconvert_exporter": "python",
   "pygments_lexer": "ipython3",
   "version": "3.8.10"
  }
 },
 "nbformat": 4,
 "nbformat_minor": 5
}
